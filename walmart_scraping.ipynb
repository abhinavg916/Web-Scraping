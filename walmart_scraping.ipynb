{
 "cells": [
  {
   "cell_type": "code",
   "execution_count": 1,
   "metadata": {},
   "outputs": [],
   "source": [
    "import requests\n",
    "from bs4 import BeautifulSoup as soup"
   ]
  },
  {
   "cell_type": "code",
   "execution_count": 2,
   "metadata": {},
   "outputs": [],
   "source": [
    "# header = { 'User-Agent': 'Mozilla/5.0 (Windows NT 10.0; Win64; x64) AppleWebKit/537.36 (KHTML, like Gecko) Chrome/87.0.4280.88 Safari/537.36'}"
   ]
  },
  {
   "cell_type": "code",
   "execution_count": 75,
   "metadata": {},
   "outputs": [],
   "source": [
    "html = requests.get('https://www.staples.com/Computer-office-desks/cat_CL210795/663ea?pn=1')"
   ]
  },
  {
   "cell_type": "code",
   "execution_count": 76,
   "metadata": {},
   "outputs": [],
   "source": [
    "bsobj = soup(html.content, 'lxml')"
   ]
  },
  {
   "cell_type": "code",
   "execution_count": 77,
   "metadata": {},
   "outputs": [
    {
     "output_type": "execute_result",
     "data": {
      "text/plain": [
       "ustable keyboard trays that minimize wrist strain. \\u003cspan\\u003e\\u003c/span\\u003e\",\"progcontent\":\"\\u003ch3\\u003eThe Best Computer Office Desks\\u003c/h3\\u003e\\u003cp\\u003e Shopping for Computer desks? You definitely have some options to think about here at Staples.com. With over 663 Computer desks available, 12 different styles, you have your work cut out for you. That's where past customers can help. Reviews and ratings can go a long way in separating the Computer desk that is right for your tastes from a desk that doesn't match your home or office theme and decor. Use our filters to find the best style, color, and material of Computer desk to help you be more productive. Our Computer desks range in price from 34.99 to 3399.99. Check out the absolute highest rated of the whole lot here: \\u003c/p\\u003e\\u003cul\\u003e\\u003cli\\u003e\\u003ca href=\\\"https://www.staples.com/Studio-Designs-Calico-Designs-Ashwood-32-25-W-Compact-Desk-51241/product_24192603\\\"\\u003eStudio Designs Calico Designs Ashwood 32.25\\\"W Compact Desk (51241)\\u003c/a\\u003e 4.8 stars, 5 customer reviews \\u003c/li\\u003e\\u003cli\\u003e\\u003ca href=\\\"https://www.staples.com/Flash-Furniture-Glass-Computer-Desk-with-Pull-Out-Keyboard-Tray-and-CPU-Cart-Black/product_1983001\\\"\\u003eFlash Furniture Glass Computer Desk with Pull-Out Keyboard Tray and CPU Cart, Black\\u003c/a\\u003e 4.8 stars, 4 customer reviews \\u003c/li\\u003e\\u003cli\\u003e\\u003ca href=\\\"https://www.staples.com/Flash-Furniture-Glass-Computer-Desk-with-Open-Storage-NANWK086/product_1983000\\\"\\u003eFlash Furniture Glass Computer Desk with Open Storage (NANWK086)\\u003c/a\\u003e 4.7 stars, 3 customer reviews \\u003c/li\\u003e\\u003cli\\u003e\\u003ca href=\\\"https://www.staples.com/techni-mobili-modern-office-desk-with-storage-gray-rta-7002-gry/product_24302821\\\"\\u003eTechni Mobili Modern Office Desk with Storage, Gray (RTA-7002-GRY)\\u003c/a\\u003e 4.7 stars, 6 customer reviews \\u003c/li\\u003e\\u003cli\\u003e\\u003ca href=\\\"https://www.staples.com/Flash-Furniture-Glass-Desk-with-Black-Pedestal-Frame-NANWK055/product_1983002\\\"\\u003eFlash Furniture Glass Desk with Black Pedestal Frame (NANWK055)\\u003c/a\\u003e 4.7 stars, 3 customer reviews \\u003c/li\\u003e\\u003c/ul\\u003e \\u003ch3\\u003eTop Rated Computer Desk Styles\\u003c/h3\\u003e\\u003cp\\u003e Ratings can help you decide on the right Computer desk style for your space. Especially when you have 663 styles to choose from. Based on past Computer desk buyers, these are the Computer office desks with the best ratings: \\u003c/p\\u003e\\u003cul\\u003e\\u003cli\\u003e\\u003ca href=\\\"https://www.staples.com/Computer-minimalist-office-desks/cat_CL210795/663ea-menki\\\"\\u003eMinimalist\\u003c/a\\u003e 4.6 star average rating, 1 desks available\\u003c/li\\u003e\\u003cli\\u003e\\u003ca href=\\\"https://www.staples.com/Computer-Modern-office-desks/cat_CL210795/663ea-5yeyi\\\"\\u003eModern\\u003c/a\\u003e 4.5 star average rating, 20 desks available\\u003c/li\\u003e\\u003cli\\u003e\\u003ca href=\\\"https://www.staples.com/Computer-Rustic-office-desks/cat_CL210795/663ea-65u57\\\"\\u003eRustic\\u003c/a\\u003e 4.5 star average rating, 2 desks available\\u003c/li\\u003e\\u003c/ul\\u003e  \\n\\n\\t\\u003ch3\\u003eThe Lowest Price Computer Desk Deals Available\\u003c/h3\\u003e\\u003cp\\u003e Price may be the most important factor when shopping for a Computer desk for your office or home. With Computer desk prices ranging from 34.99 to 3399.99 on nearly 663 different kinds of Computer desks, you may not want to just go for the least expensive option. Rather, we have the tools to help you decide on the right desk style, color, and material for your work space. To get you started, here are the lowest priced Computer desks in stock right now: \\u003c/p\\u003e\\u003cul\\u003e\\u003cli\\u003e\\u003ca href=\\\"https://www.staples.com/offices-to-go-superior-12-half-end-panel-artisan-gray-tdsl12g-agl/product_24418368\\\"\\u003eOffices to go Superior 12\\\" Half End Panel, Artisan Gray (TDSL12G-AGL)\\u003c/a\\u003e\\u003c/li\\u003e\\u003cli\\u003e\\u003ca href=\\\"https://www.staples.com/Staples-Glass-Computer-Desk/product_2472540\\\"\\u003eStaples Glass Computer Desk\\u003c/a\\u003e 4.6 stars, 115 customer reviews \\u003c/li\\u003e\\u003cli\\u003e\\u003ca href=\\\"https://www.staples.com/Staples-Chestnut-Laminate-Computer-Desk/product_2472537\\\"\\u003eStaples Chestnut Laminate Computer Desk\\u003c/a\\u003e 4.5 stars, 86 customer reviews \\u003c/li\\u003e\\u003cli\\u003e\\u003ca href=\\\"https://www.staples.com/Easy2Go-Glass-Top-Computer-Desk/product_951533\\\"\\u003eEasy2Go Glass Top Computer Desk\\u003c/a\\u003e 4.5 stars, 72 customer reviews \\u003c/li\\u003e\\u003cli\\u003e\\u003ca href=\\\"https://www.staples.com/Flash-Furniture-Notebook-Computer-and-Reading-Table-Deep-Cherry-NANJN2762/product_201326\\\"\\u003eFlash Furniture Notebook Computer and Reading Table, Deep Cherry (NANJN2762)\\u003c/a\\u003e 3.7 stars, 23 customer reviews \\u003c/li\\u003e\\u003c/ul\\u003e \\u003ch3\\u003eCompare Low Prices On Computer Desk Styles\\u003c/h3\\u003e\\u003cp\\u003e Maybe you're buying a new Computer desk for an office at home, or perhaps you need a new desk at your growing business place? Either way, you have a budget you'd like to stick to. But when every work space has a different theme, different decor, and limited options for desk styles and sizes, keeping costs down can be difficult. That's why at Staples we've gone through our Computer desk inventory of nearly 0 styles to find the least expensive desk styles available: \\u003c/p\\u003e\\u003cul\\u003e\\u003cli\\u003e\\u003ca href=\\\"https://www.staples.com/Computer-minimalist-office-desks/cat_CL210795/663ea-menki\\\"\\u003eMinimalist\\u003c/a\\u003e 4.6 star average rating, 1 desks available\\u003c/li\\u003e\\u003cli\\u003e\\u003ca href=\\\"https://www.staples.com/Computer-Retro-office-desks/cat_CL210795/663ea-67gcu\\\"\\u003eRetro\\u003c/a\\u003e 4.6 star average rating, 3 desks available\\u003c/li\\u003e\\u003cli\\u003e\\u003ca href=\\\"https://www.staples.com/Computer-Industrial-office-desks/cat_CL210795/663ea-65yzn\\\"\\u003eIndustrial\\u003c/a\\u003e 4.6 star average rating, 9 desks available\\u003c/li\\u003e\\u003c/ul\\u003e  \\n\\n\\t\\u003ch3\\u003eWhat Are The Most Popular Computer Desks Online?\\u003c/h3\\u003e\\u003cp\\u003e 8,135 customers have written reviews about the Computer office desks available at Staples.com. You should take their word for it when it comes to buying a Computer desk that has the style, color, and material you want. Their reviews cover popular desk styles like  and , not to mention top Computer desk materials like  and .  Below we've listed the most popular Computer desks based on number of customer reviews: \\u003c/p\\u003e\\u003cul\\u003e\\u003cli\\u003e\\u003ca href=\\\"https://www.staples.com/Bush-Furniture-Somerset-Office-Desk-Hansen-Cherry-WC81728K/product_661600\\\"\\u003eBush Furniture Somerset Office Desk, Hansen Cherry (WC81728K)\\u003c/a\\u003e 4.0 stars, 1,176 customer reviews\\u003c/li\\u003e\\u003cli\\u003e\\u003ca href=\\\"https://www.staples.com/Bush-Furniture-Somerset-59-29-x-29-53-x-29-11-Desk-Mocha-Cherry-WC81828K/product_1638821\\\"\\u003eBush Furniture Somerset 59.29\\\" x 29.53\\\" x 29.11\\\" Desk, Mocha Cherry (WC81828K)\\u003c/a\\u003e 4.0 stars, 1,176 customer reviews\\u003c/li\\u003e\\u003cli\\u003e\\u003ca href=\\\"https://www.staples.com/Bush-Furniture-Somerset-59-29-x-29-53-D-x-29-11-Office-Desk-Maple-Cross-WC81428K/product_640141\\\"\\u003eBush Furniture Somerset 59.29\\\" x 29.53\\\"D x 29.11\\\" Office Desk, Maple Cross (WC81428K)\\u003c/a\\u003e 4.0 stars, 1,176 customer reviews\\u003c/li\\u003e\\u003cli\\u003e\\u003ca href=\\\"https://www.staples.com/Techni-Mobili-Double-Pedestal-Laminate-Computer-Desk-Chocolate/product_735482\\\"\\u003eTechni Mobili Double Pedestal Laminate Computer Desk, Chocolate\\u003c/a\\u003e 4.1 stars, 313 customer reviews\\u003c/li\\u003e\\u003cli\\u003e\\u003ca href=\\\"https://www.staples.com/Easy2Go-Metal-and-Glass-Computer-Cart/product_951534\\\"\\u003eEasy2Go Metal and Glass Computer Cart\\u003c/a\\u003e 4.1 stars, 300 customer reviews\\u003c/li\\u003e\\u003c/ul\\u003e \\u003ch3\\u003ePopular Computer Desk Styles According To Customers\\u003c/h3\\u003e\\u003cp\\u003e Top Computer office desk styles according to Staples customers are listed below. There are 12 styles of Computer desks in our inventory, and about 8,135 to go along with them. We've taken care of the hard work for you so read up on what past Computer office desk buyers have chosen: \\u003c/p\\u003e\\u003cul\\u003e\\u003cli\\u003e\\u003ca href=\\\"https://www.staples.com/Computer-Transitional-office-desks/cat_CL210795/663ea-5zd4b\\\"\\u003eTransitional Computer desks\\u003c/a\\u003e 3,559 customer reviews, 4.0 star average rating, 16 desks available\\u003c/li\\u003e\\u003cli\\u003e\\u003ca href=\\\"https://www.staples.com/Computer-Contemporary-office-desks/cat_CL210795/663ea-62gxh\\\"\\u003eContemporary Computer desks\\u003c/a\\u003e 2,482 customer reviews, 4.3 star average rating, 99 desks available\\u003c/li\\u003e\\u003cli\\u003e\\u003ca href=\\\"https://www.staples.com/Computer-Traditional-office-desks/cat_CL210795/663ea-65urx\\\"\\u003eTraditional Computer desks\\u003c/a\\u003e 1,082 customer reviews, 4.1 star average rating, 18 desks available\\u003c/li\\u003e\\u003c/ul\\u003e\",\"newUrl\":\"/Computer-office-desks/cat_CL210795/663ea\",\"twittercard\":\"summary\",\"twittersite\":\"@staples\",\"twitterimage\":\"//assets.staples-static.com/sbd/cre/products/home-banners/20190414/images/nad_staples_logo2.png\",\"ogurl\":\"/Computer-office-desks/cat_CL210795/663ea\",\"ogtitle\":\"Computer Office Desks at Staples\",\"ogdescription\":\"Browse Computer Office Desks on sale, by desired features, or by customer ratings.\",\"ogimage\":\"//assets.staples-static.com/sbd/cre/products/home-banners/20190414/images/nad_staples_logo2.png\"},\"pageType\":\"browse\",\"browserUrl\":\"/Computer-office-desks/cat_CL210795/663ea?pn=1\",\"isItf\":{\"headerSearch\":false,\"landingSearch\":false,\"brandSearch\":false,\"headerCartridgeSearch\":false,\"landingCartridgeSearch\":false,\"brandCartridgeSearch\":false},\"pageNumber\":1},\"configState\":{\"userVariables\":{\"bundlerClassIdList\":{\"laptop\":[\"CL167289\",\"CL167288\"],\"printer\":[\"CL161518\",\"CL40302\",\"CL169182\",\"CL166108\",\"CL40300\",\"CL142044\",\"CL167883\",\"CL216629\"]},\"techBundlerURL\":\"/bundle/config_\"},\"assetsDomain\":\"https://assets.staples-static.com\",\"titleLessFilters\":[\"Customer Recommended\",\"ShopRunner\",\"Auto Restock\",\"Rating\",\"pastPurchases\",\"INSTOCK\"],\"toggles\":{\"enableCompare\":true,\"enableMmxBopisOverlay\":true,\"brandTransformationSwitch\":true,\"enableStaplesChoiceSku\":false,\"boxFinderEnabled\":true,\"bannerSwitches\":{\"search\":{\"all\":true,\"top\":true,\"left\":true,\"belowPagination\":true,\"bottom\":true,\"mweb\":true,\"mweb_top\":true,\"mweb_belowPagination\":true,\"mweb_bottom\":true},\"class\":{\"all\":true,\"top\":true,\"left\":true,\"belowPagination\":true,\"bottom\":true,\"mweb\":true,\"mweb_top\":true,\"mweb_belowPagination\":true,\"mweb_bottom\":true}}},\"itemServiceRouterURL\":\"/searchux/api/productTileProxy/getProductTileData\"}}},\"page\":\"/search-home\",\"query\":{\"pn\":\"1\",\"categoryId\":\"CL210795\",\"filterHash\":\"663ea\"},\"buildId\":\"SzSfLuTzEM_wUDLMYOUqi\",\"runtimeConfig\":{\"domainConfig\":{\"ele-app-cc\":{\"local\":false,\"NEWRELIC_URL\":\"https://assets.staples-static.com/sbd/newrelic/newrelicBrowser.js\",\"JQUERY_ENABLED\":false,\"feature\":{\"isShippingPaymentON\":false},\"guestExpressCheckout\":true,\"cartStorage\":true,\"returnPolicyNotificationEndDate\":\"2020-12-25\",\"textSubscriptionEnabled\":true,\"GOOGLE_PLACES_API_URL\":\"https://maps.googleapis.com/maps/api/js?client=gme-staplesinc\\u0026libraries=places\\u0026sensor=true\\u0026callback=googleReady\",\"OFFERLOGIC_SCRIPT\":\"//wasabi.760main.com/pub/staples-2/tag.js\",\"nudataConfigurations\":{\"CHECKOUT_NUDATA_BASEURL\":\"https://nd.staples.com/2.2/w/w-416554/sync/js/\",\"CHECKOUT_NUDATA_SCRIPT\":\"/sbdpas/20170217111729/js/ndscripts/nd_sync_v02_calls.js\",\"NUDATA_3DS_TIMEOUT\":3000},\"powInfo\":{\"isPOWActive\":false,\"returnFn\":\"acceptAN\",\"srcUrl\":\"/kuber/powinc?tid=US\",\"url\":\"https://powdps.staples.com/ProtectOnlyWeb/protectg3.jsp\",\"powTimeout\":6000},\"mmopLimits\":{\"GCLimit\":5,\"RCLimit\":5,\"PCLimit\":1},\"listCarouselItemLimit\":30,\"shoprunner\":{\"shoprunner_enabled\":true,\"shoprunner_version\":\"2.0\",\"shoprunner_environmentID\":\"2\"},\"AEC_ENV\":\"PROD\",\"promoExclusions\":[\"Negotiated Price Program\",\"Catalog Suffix Price Program\"],\"sparxConfig\":{\"merchantId\":\"75ba92ac-d950-59d3-404f-cad319637171\",\"origin\":\"https://sparx-api.staples-sparx.com\",\"collectPath\":\"/api/hog/v5/collect\",\"purchasePath\":\"/api/hog/v5/confirm-purchase\",\"refreshPath\":\"/api/hog/v5/get-session-token\",\"clientApp\":\"website\",\"channel\":\"DIRECT\"}}},\"domainRoutes\":[{\"name\":\"lpd-home\",\"pattern\":\"/\"},{\"name\":\"lpd-category\",\"pattern\":\"/:categoryName/cat_:categoryId((?!CL|SC43|CG773|CG562|CG703|CG774|CG883|CG2844|CG2845|CG782|CG716|CG812|CG1110|CG940|CG583|CG668|CG628|CG910|CG704|CG2904|CG682|CG908|CG817|CG521|CG711|CG2858|CG1224|CG620|CG505|CG499|CG697|CG540|CG554|CG970|CG700|CG672|CG526|CG778|CG744|CG2847|CG605|CG707|CG775)\\\\w+\\\\d+)\"},{\"name\":\"lpd-sku\",\"pattern\":\"/:productName/product_:productId\"},{\"name\":\"lpd-sku\",\"pattern\":\"/product_:productId\"},{\"name\":\"lpd-deals\",\"pattern\":\"/deals/Staples-Daily-Deals/:dealsId\"},{\"name\":\"lpd-collection\",\"pattern\":\"/deals/:collectionName/collection_:collectionId\"},{\"name\":\"lpd-bundle\",\"pattern\":\"/deals/:bundleName/:bundleId\"},{\"name\":\"search-home\",\"pattern\":\"/:ignore/directory_:searchterm\"},{\"name\":\"search-home\",\"pattern\":\"/(.*)/cat_:categoryId(CL\\\\d+)/:filterHash?\"},{\"name\":\"search-nginx-mock\",\"pattern\":\"/searchux/view/nginxMock\"},{\"name\":\"identity-login\",\"pattern\":\"/idm/com/login\"},{\"name\":\"identity-login-sso\",\"pattern\":\"/idm/com/ssologin\"},{\"name\":\"identity-create-account\",\"pattern\":\"/idm/com/createaccount\"},{\"name\":\"identity-create-account-confirm\",\"pattern\":\"/idm/com/createuserconfirm\"},{\"name\":\"identity-password-assist\",\"pattern\":\"/idm/com/passwordassist\"},{\"name\":\"identity-forgot-password\",\"pattern\":\"/idm/com/forgotpassword\"},{\"name\":\"identity-forgot-username\",\"pattern\":\"/idm/com/forgotusername\"},{\"name\":\"identity-verify-email\",\"pattern\":\"/idm/com/emailverify\"},{\"name\":\"identity-customer-otp\",\"pattern\":\"/idm/com/otpcustomer\"},{\"name\":\"helpcenter-home\",\"pattern\":\"/hc\"},{\"name\":\"itf-home\",\"pattern\":\"/:categoryName/cat_SC43\"},{\"name\":\"itf-brand-home\",\"pattern\":\"/:categoryName/cat_:categoryId((?=CG773|CG562|CG703|CG774|CG883|CG2844|CG2845|CG782|CG716|CG812|CG1110|CG940|CG583|CG668|CG628|CG910|CG704|CG2904|CG682|CG908|CG817|CG521|CG711|CG2858|CG1224|CG620|CG505|CG499|CG697|CG540|CG554|CG970|CG700|CG672|CG526|CG778|CG744|CG2847|CG605|CG707|CG775)\\\\w+\\\\d+)\"},{\"name\":\"user-profile-info\",\"pattern\":\"/gus/sdc/profileinfo\"},{\"name\":\"user-card\",\"pattern\":\"/gus/sdc/profileinfo/card\"},{\"name\":\"user-card\",\"pattern\":\"/office/supplies/StaplesMngCreditCard\"},{\"name\":\"user-quick-buy\",\"pattern\":\"/gus/sdc/profileinfo/quickbuy\"},{\"name\":\"user-address\",\"pattern\":\"/gus/sdc/profileinfo/address\"},{\"name\":\"user-guest-user\",\"pattern\":\"/gus/sdc/pub/profileinfo/account/guestUser\"},{\"name\":\"user-registered-user\",\"pattern\":\"/gus/sdc/profileinfo/account/registeredUser\"},{\"name\":\"user-registered-user\",\"pattern\":\"/gus/sdc/profileinfo/account\"},{\"name\":\"user-registered-user-v2\",\"pattern\":\"/gus/sdc/profileinfo/account/v2/registeredUser\"},{\"name\":\"mmx-cart\",\"pattern\":\"/mmx/cart\"},{\"name\":\"cc-mmx-cart\",\"pattern\":\"/cc/mmx/cart\"},{\"name\":\"cc-mmx-quickorder\",\"pattern\":\"/cc/mmx/quickorder\"},{\"name\":\"cc-office-supplies-your-order\",\"pattern\":\"/office/supplies/yourorder\"},{\"name\":\"cc-office-supplies-checkout\",\"pattern\":\"/office/supplies/checkout\"},{\"name\":\"mmx-ocp\",\"pattern\":\"/mmx/ocp\"},{\"name\":\"cc-mmx-ocp\",\"pattern\":\"/cc/mmx/ocp\"},{\"name\":\"kuber-ocp\",\"pattern\":\"/kuber/confirmOrder\"},{\"name\":\"cc-list\",\"pattern\":\"/cc/mmx/list/mylists\"},{\"name\":\"cc-list-details\",\"pattern\":\"/cc/mmx/list/details/:id\"},{\"name\":\"cc-list-global-list-association\",\"pattern\":\"/cc/mmx/list/association/:id\"},{\"name\":\"cc-list-ship-to-label\",\"pattern\":\"/cc/mmx/list/shiptolabel\"},{\"name\":\"cc-giftcard\",\"pattern\":\"/cc/mmx/giftcard\"},{\"name\":\"mmx-suggest\",\"pattern\":\"/mmx/suggests\"},{\"name\":\"cc-mmx-suggest\",\"pattern\":\"/cc/mmx/suggests\"}],\"defaultDomain\":\"staples.com\",\"fullHostName\":\"https://www.staples.com\",\"spaRefreshTimeoutInSeconds\":1800},\"isFallback\":false,\"customServer\":true,\"gip\":true,\"appGip\":true}</script><script nomodule=\"\" src=\"/_next/static/chunks/polyfills-654f04a2bf651edcb218.js\"></script><script async=\"\" src=\"/_next/static/chunks/main-83f11efec7abdfceba13.js\"></script><script async=\"\" src=\"/_next/static/chunks/webpack-8d0089a7fad2a08cfab6.js\"></script><script async=\"\" src=\"/_next/static/chunks/framework.8683c114909ee93ee89f.js\"></script><script async=\"\" src=\"/_next/static/chunks/54137d91.4c76ffdee7a59a3d691c.js\"></script><script async=\"\" src=\"/_next/static/chunks/commons.c6002f7ebcb5c9fe05a5.js\"></script><script async=\"\" src=\"/_next/static/chunks/780430533db4bd99042529ce12ec92fd8da63e65.62ebba530069bc121ff7.js\"></script><script async=\"\" src=\"/_next/static/chunks/f6902b4822990f3ee9e3d5e968446838ba2ca50f.a59de7f0414a104cb8e5.js\"></script><script async=\"\" src=\"/_next/static/chunks/47565ec739e76ccbf2421f3764a75699a2a72a11.2281a8c8384b4140d08f.js\"></script><script async=\"\" src=\"/_next/static/chunks/f6902b4822990f3ee9e3d5e968446838ba2ca50f_CSS.33fae6201fee986d0584.js\"></script><script async=\"\" src=\"/_next/static/chunks/2b13dbad4c04aad7030169ab47557c138426367e.78bee316cd7e62f12975.js\"></script><script async=\"\" src=\"/_next/static/chunks/6a6c144e84b9124487d9298e3cbfdba12e9c9013.43614048d7b01c2e85d8.js\"></script><script async=\"\" src=\"/_next/static/chunks/6a6c144e84b9124487d9298e3cbfdba12e9c9013_CSS.955cd01b185e91c5e5fc.js\"></script><script async=\"\" src=\"/_next/static/chunks/e0b40b550f4132f057141d83276f79db1355cf6b.bb7f141a73ff62338aff.js\"></script><script async=\"\" src=\"/_next/static/chunks/a630bc7461b664490b1f5ca6916eb6cd335c50b4.09224221f83861c0b3c2.js\"></script><script async=\"\" src=\"/_next/static/chunks/10c368b9b900773b7d785204c130ee7e22aaa6dc.fb64caf4d5b5a9906e4c.js\"></script><script async=\"\" src=\"/_next/static/chunks/0d964f9cb3c1ec26772e54d9ffed56cda78b6aab.568c8a217336908061d0.js\"></script><script async=\"\" src=\"/_next/static/chunks/0d964f9cb3c1ec26772e54d9ffed56cda78b6aab_CSS.7be68481ca1c5263cd6c.js\"></script><script async=\"\" src=\"/_next/static/chunks/08c45ffc66305bd9471c105fe4e94ac10e0ec390.23ed5e3df82816cf5321.js\"></script><script async=\"\" src=\"/_next/static/chunks/pages/_app-7018be47b45f57d811c0.js\"></script><script async=\"\" src=\"/_next/static/chunks/f28de5535c9abdbae0e691e2e2a40fb262be0dd8.b1ea1a77d40a5f7051a5.js\"></script><script async=\"\" src=\"/_next/static/chunks/9b0206d08b7a30fbef8a13b4e2c64f9e085e723b.9dfaeac6a42406a70eb6.js\"></script><script async=\"\" src=\"/_next/static/chunks/fd5e9a90f65137b6fd9da8e198ec8bf21e297397.a159a5ef085a43c6cc94.js\"></script><script async=\"\" src=\"/_next/static/chunks/94c3bcf10956265484174c6fd96eb8536049c98c.eba3091eb4d59fbc0e98.js\"></script><script async=\"\" src=\"/_next/static/chunks/08e0e743aa1569d5764704789a3bfb12ed837bb0.c45ca4059bc9568acc66.js\"></script><script async=\"\" src=\"/_next/static/chunks/cfe7623521ffb780f83499adfde3f7010cdb7016_CSS.0c49019e1a6ae45b97d2.js\"></script><script async=\"\" src=\"/_next/static/chunks/bd7dc3431a626083467b116f997bbd6083ae8800.87cadb97ebbed9f3f172.js\"></script><script async=\"\" src=\"/_next/static/chunks/c84a4b805e656b3d37d33bc209ffdccfa6a4246b.7af201fc88cc4ad354e3.js\"></script><script async=\"\" src=\"/_next/static/chunks/pages/search-home-78b3cd3a80fae45674ed.js\"></script><script async=\"\" src=\"/_next/static/SzSfLuTzEM_wUDLMYOUqi/_buildManifest.js\"></script><script async=\"\" src=\"/_next/static/SzSfLuTzEM_wUDLMYOUqi/_ssgManifest.js\"></script><noscript><h4>JavaScript is Disabled</h4><p>Sorry, this webpage requires JavaScript to function correctly.</p><p>Please enable JavaScript in your browser and reload the page.</p></noscript><input id=\"mmxPage\" type=\"hidden\" value=\"true\"/><script type=\"text/javascript\">var _cf = _cf || []; _cf.push(['_setFsp', true]);  _cf.push(['_setBm', true]);  _cf.push(['_setAu', '/bundles/52b7995dui17011c3a40d4fa3660c3']); </script><script src=\"/bundles/52b7995dui17011c3a40d4fa3660c3\" type=\"text/javascript\"></script></body></html>"
      ]
     },
     "metadata": {},
     "execution_count": 77
    }
   ],
   "source": [
    "bsobj"
   ]
  },
  {
   "cell_type": "code",
   "execution_count": 78,
   "metadata": {},
   "outputs": [],
   "source": [
    "url_list = []\n",
    "for i in range(1,6):\n",
    "  url_list.append('https://www.staples.com/Computer-office-desks/cat_CL210795/663ea?pn=' + str(i))"
   ]
  },
  {
   "cell_type": "code",
   "execution_count": 79,
   "metadata": {},
   "outputs": [],
   "source": [
    "item_names = []\n",
    "price_list = []"
   ]
  },
  {
   "cell_type": "code",
   "execution_count": 80,
   "metadata": {},
   "outputs": [
    {
     "output_type": "execute_result",
     "data": {
      "text/plain": [
       "'Techni Mobili 47\"W Computer Desk, Espresso (RTA-8211-ES18)'"
      ]
     },
     "metadata": {},
     "execution_count": 80
    }
   ],
   "source": [
    "bsobj.findAll('div', {'class': 'standard-type__product_info_no_image'})[0].findAll('a', {'class': 'standard-type__product_title'})[0].text"
   ]
  },
  {
   "cell_type": "code",
   "execution_count": 61,
   "metadata": {},
   "outputs": [
    {
     "output_type": "execute_result",
     "data": {
      "text/plain": [
       "'$184.99'"
      ]
     },
     "metadata": {},
     "execution_count": 61
    }
   ],
   "source": [
    "bsobj.findAll('div', {'class': 'standard-type__product_price'})[0].findAll('span', {'class':'standard-type__price'})[0].text"
   ]
  },
  {
   "cell_type": "code",
   "execution_count": null,
   "metadata": {},
   "outputs": [],
   "source": [
    "for url in url_list:\n",
    "  result = requests.get(url)\n",
    "  bsobj = soup(result.content,'lxml')\n",
    "\n",
    "  product_name = bsobj.findAll('div', {'class': 'standard-type__product_info_no_image'})\n",
    "  product_price = bsobj.findAll('div', {'class': 'standard-type__product_price'})\n",
    "  for names,price in zip(product_name,product_price):\n",
    "    item_names.append(names.a.span.text.strip())\n",
    "    price_list.append(price.findAll('span',{'class':'standard-type__price'})[0].text)"
   ]
  },
  {
   "cell_type": "code",
   "execution_count": null,
   "metadata": {},
   "outputs": [],
   "source": [
    "import pandas as pd\n",
    "df = pd.DataFrame({'Product_Name':item_names, 'Price':price_list}, columns=['Product_Name', 'Price'])\n",
    "df.head()"
   ]
  },
  {
   "cell_type": "code",
   "execution_count": null,
   "metadata": {},
   "outputs": [],
   "source": [
    "df.to_excel('products.xlsx', index=False)"
   ]
  },
  {
   "cell_type": "code",
   "execution_count": null,
   "metadata": {},
   "outputs": [],
   "source": []
  }
 ],
 "metadata": {
  "kernelspec": {
   "name": "python3",
   "display_name": "Python 3.9.0 64-bit",
   "metadata": {
    "interpreter": {
     "hash": "141a8902bf54005a677e2c4e8540b0da55985a6b3bb4223ca5bc977817e51b72"
    }
   }
  }
 },
 "nbformat": 4,
 "nbformat_minor": 4
}